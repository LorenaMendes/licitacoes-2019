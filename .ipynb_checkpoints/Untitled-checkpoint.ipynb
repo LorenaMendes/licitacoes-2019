{
 "cells": [
  {
   "cell_type": "code",
   "execution_count": 2,
   "metadata": {},
   "outputs": [],
   "source": [
    "# -*- coding: utf8\n",
    "\n",
    "import numpy as np\n",
    "import matplotlib.pyplot as plt\n",
    "import pandas as pd\n",
    "import sys, os"
   ]
  },
  {
   "cell_type": "code",
   "execution_count": 3,
   "metadata": {},
   "outputs": [],
   "source": [
    "df_item = pd.read_csv(\"./bases/201901_ItemLicitacao.csv\", delimiter=';', encoding=\"iso-8859-1\")\n",
    "df_lic = pd.read_csv(\"./bases/201901_Licitacao.csv\", delimiter=';', encoding=\"iso-8859-1\")\n",
    "df_part = pd.read_csv(\"./bases/201901_ParticipantesLicitacao.csv\", delimiter=';', encoding=\"iso-8859-1\")"
   ]
  },
  {
   "cell_type": "code",
   "execution_count": 4,
   "metadata": {},
   "outputs": [
    {
     "data": {
      "text/html": [
       "<div>\n",
       "<style scoped>\n",
       "    .dataframe tbody tr th:only-of-type {\n",
       "        vertical-align: middle;\n",
       "    }\n",
       "\n",
       "    .dataframe tbody tr th {\n",
       "        vertical-align: top;\n",
       "    }\n",
       "\n",
       "    .dataframe thead th {\n",
       "        text-align: right;\n",
       "    }\n",
       "</style>\n",
       "<table border=\"1\" class=\"dataframe\">\n",
       "  <thead>\n",
       "    <tr style=\"text-align: right;\">\n",
       "      <th></th>\n",
       "      <th>Número Licitação</th>\n",
       "      <th>Número Processo</th>\n",
       "      <th>Código Órgão</th>\n",
       "      <th>Nome Órgão</th>\n",
       "      <th>Código UG</th>\n",
       "      <th>Nome UG</th>\n",
       "      <th>Código Item Compra</th>\n",
       "      <th>Descrição Item Compra</th>\n",
       "      <th>CNPJ Participante</th>\n",
       "      <th>Nome Participante</th>\n",
       "      <th>Flag Vencedor</th>\n",
       "    </tr>\n",
       "  </thead>\n",
       "  <tbody>\n",
       "    <tr>\n",
       "      <th>0</th>\n",
       "      <td>12017</td>\n",
       "      <td>63139000949201711</td>\n",
       "      <td>52131</td>\n",
       "      <td>Comando da Marinha</td>\n",
       "      <td>764100</td>\n",
       "      <td>SERVICO DE IDENTIFICACAO DA MARINHA</td>\n",
       "      <td>7641000700001201700001</td>\n",
       "      <td>COMUNICACAO POR CORREIO</td>\n",
       "      <td>34028316000294</td>\n",
       "      <td>EMPRESA BRASILEIRA DE CORREIOS E TELEGRAFOS</td>\n",
       "      <td>SIM</td>\n",
       "    </tr>\n",
       "    <tr>\n",
       "      <th>1</th>\n",
       "      <td>12017</td>\n",
       "      <td>64615003280201719</td>\n",
       "      <td>52121</td>\n",
       "      <td>Comando do Exército</td>\n",
       "      <td>160501</td>\n",
       "      <td>MUSEU HISTORICO DO EXERCITO FORTE COPACABANA</td>\n",
       "      <td>1605010200001201700001</td>\n",
       "      <td>MANUTENCAO DE REDES - AGUA / ESGOTO</td>\n",
       "      <td>06241337000177</td>\n",
       "      <td>CRISART CONSTRUCOES E REFORMAS LTDA</td>\n",
       "      <td>SIM</td>\n",
       "    </tr>\n",
       "    <tr>\n",
       "      <th>2</th>\n",
       "      <td>12018</td>\n",
       "      <td>000013932201894</td>\n",
       "      <td>52121</td>\n",
       "      <td>Comando do Exército</td>\n",
       "      <td>160383</td>\n",
       "      <td>12 REGIMENTO DE CAVALARIA MECANIZADO</td>\n",
       "      <td>1603830500001201800001</td>\n",
       "      <td>CONJUNTO ROUPA DE CAMA</td>\n",
       "      <td>03851189000114</td>\n",
       "      <td>HABIB DECORACOES DE ITAJUBA LTDA</td>\n",
       "      <td>NÃO</td>\n",
       "    </tr>\n",
       "    <tr>\n",
       "      <th>3</th>\n",
       "      <td>12018</td>\n",
       "      <td>000013932201894</td>\n",
       "      <td>52121</td>\n",
       "      <td>Comando do Exército</td>\n",
       "      <td>160383</td>\n",
       "      <td>12 REGIMENTO DE CAVALARIA MECANIZADO</td>\n",
       "      <td>1603830500001201800001</td>\n",
       "      <td>CONJUNTO ROUPA DE CAMA</td>\n",
       "      <td>26776000000171</td>\n",
       "      <td>ADRIANO HELLWIG</td>\n",
       "      <td>NÃO</td>\n",
       "    </tr>\n",
       "    <tr>\n",
       "      <th>4</th>\n",
       "      <td>12018</td>\n",
       "      <td>000013932201894</td>\n",
       "      <td>52121</td>\n",
       "      <td>Comando do Exército</td>\n",
       "      <td>160383</td>\n",
       "      <td>12 REGIMENTO DE CAVALARIA MECANIZADO</td>\n",
       "      <td>1603830500001201800001</td>\n",
       "      <td>CONJUNTO ROUPA DE CAMA</td>\n",
       "      <td>10907550000142</td>\n",
       "      <td>QUERENCIA COMERCIAL E DISTRIBUIDORA LTDA</td>\n",
       "      <td>NÃO</td>\n",
       "    </tr>\n",
       "  </tbody>\n",
       "</table>\n",
       "</div>"
      ],
      "text/plain": [
       "   Número Licitação    Número Processo  Código Órgão           Nome Órgão  \\\n",
       "0             12017  63139000949201711         52131   Comando da Marinha   \n",
       "1             12017  64615003280201719         52121  Comando do Exército   \n",
       "2             12018    000013932201894         52121  Comando do Exército   \n",
       "3             12018    000013932201894         52121  Comando do Exército   \n",
       "4             12018    000013932201894         52121  Comando do Exército   \n",
       "\n",
       "   Código UG                                       Nome UG  \\\n",
       "0     764100           SERVICO DE IDENTIFICACAO DA MARINHA   \n",
       "1     160501  MUSEU HISTORICO DO EXERCITO FORTE COPACABANA   \n",
       "2     160383          12 REGIMENTO DE CAVALARIA MECANIZADO   \n",
       "3     160383          12 REGIMENTO DE CAVALARIA MECANIZADO   \n",
       "4     160383          12 REGIMENTO DE CAVALARIA MECANIZADO   \n",
       "\n",
       "       Código Item Compra                Descrição Item Compra  \\\n",
       "0  7641000700001201700001              COMUNICACAO POR CORREIO   \n",
       "1  1605010200001201700001  MANUTENCAO DE REDES - AGUA / ESGOTO   \n",
       "2  1603830500001201800001               CONJUNTO ROUPA DE CAMA   \n",
       "3  1603830500001201800001               CONJUNTO ROUPA DE CAMA   \n",
       "4  1603830500001201800001               CONJUNTO ROUPA DE CAMA   \n",
       "\n",
       "  CNPJ Participante                            Nome Participante Flag Vencedor  \n",
       "0    34028316000294  EMPRESA BRASILEIRA DE CORREIOS E TELEGRAFOS           SIM  \n",
       "1    06241337000177          CRISART CONSTRUCOES E REFORMAS LTDA           SIM  \n",
       "2    03851189000114             HABIB DECORACOES DE ITAJUBA LTDA           NÃO  \n",
       "3    26776000000171                              ADRIANO HELLWIG           NÃO  \n",
       "4    10907550000142     QUERENCIA COMERCIAL E DISTRIBUIDORA LTDA           NÃO  "
      ]
     },
     "execution_count": 4,
     "metadata": {},
     "output_type": "execute_result"
    }
   ],
   "source": [
    "df_part.head()\n",
    "# print(df_part['CNPJ Participante'])"
   ]
  },
  {
   "cell_type": "code",
   "execution_count": 14,
   "metadata": {},
   "outputs": [
    {
     "data": {
      "text/plain": [
       "512"
      ]
     },
     "execution_count": 14,
     "metadata": {},
     "output_type": "execute_result"
    }
   ],
   "source": [
    "# Identificando cada participante por seu número de participações\n",
    "os.system(\"awk '{print $9}' df_item\")"
   ]
  },
  {
   "cell_type": "code",
   "execution_count": null,
   "metadata": {},
   "outputs": [],
   "source": []
  }
 ],
 "metadata": {
  "kernelspec": {
   "display_name": "Python 2",
   "language": "python",
   "name": "python2"
  },
  "language_info": {
   "codemirror_mode": {
    "name": "ipython",
    "version": 2
   },
   "file_extension": ".py",
   "mimetype": "text/x-python",
   "name": "python",
   "nbconvert_exporter": "python",
   "pygments_lexer": "ipython2",
   "version": "2.7.15+"
  }
 },
 "nbformat": 4,
 "nbformat_minor": 2
}
